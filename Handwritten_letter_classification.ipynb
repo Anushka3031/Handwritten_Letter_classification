{
  "cells": [
    {
      "cell_type": "markdown",
      "metadata": {},
      "source": [
        "Q.Train a deep learning model to classify any handwritten letters from one of the Indian languages\n",
        "A.I collected Marathi language Train dataset contain handwritten letter images. "
      ]
    },
    {
      "cell_type": "code",
      "execution_count": 58,
      "metadata": {
        "id": "mDe07n7q3yz8"
      },
      "outputs": [],
      "source": [
        "import tensorflow as tf\n",
        "import matplotlib.pyplot as plt\n",
        "import matplotlib.image as mpimage\n",
        "from PIL import Image\n",
        "import numpy as np\n",
        "import os\n",
        "import random\n",
        "from sklearn import ensemble,preprocessing\n",
        "import keras.utils.np_utils"
      ]
    },
    {
      "cell_type": "markdown",
      "metadata": {},
      "source": [
        "Load images of handwritten letters of marathi language."
      ]
    },
    {
      "cell_type": "code",
      "execution_count": 59,
      "metadata": {
        "colab": {
          "base_uri": "https://localhost:8080/"
        },
        "id": "ehpqBObI9-kI",
        "outputId": "04611413-15dd-4982-ee0a-7cf2528cd6f6"
      },
      "outputs": [
        {
          "name": "stdout",
          "output_type": "stream",
          "text": [
            "Size of image matrix= 62668800\n"
          ]
        }
      ],
      "source": [
        "path = \"C:/Users/Administrator/Desktop/HLD/Train_Full_Data/\"\n",
        "folders = os.listdir(path)\n",
        "imageList=[]\n",
        "imageMatrix=[]\n",
        "newIm=[]\n",
        "labels=[]\n",
        "for folder in folders:\n",
        "  newPath =path + folder\n",
        "  folderName = os.path.split(os.path.abspath(newPath))[1]\n",
        "  characterName = folderName.split(\"_\")[2]\n",
        "  imageList=[f for f in os.listdir(newPath) if os.path.splitext(f)]\n",
        "  for image in imageList:\n",
        "    im = Image.open(newPath+\"//\"+image)\n",
        "    labels.append(characterName)\n",
        "    imageArray=np.asarray(im.getdata())\n",
        "    flattenendImageArray = imageArray.flatten()\n",
        "    imageMatrix.append(flattenendImageArray)\n",
        "print(\"Size of image matrix=\",np.size(imageMatrix))"
      ]
    },
    {
      "cell_type": "markdown",
      "metadata": {
        "id": "6Gokfwxiklry"
      },
      "source": [
        "Convert matrix to array\n"
      ]
    },
    {
      "cell_type": "code",
      "execution_count": 60,
      "metadata": {
        "colab": {
          "base_uri": "https://localhost:8080/"
        },
        "id": "2Yo3KhSoZL8Q",
        "outputId": "a704707e-dd35-4436-df77-e0ce132171b5"
      },
      "outputs": [
        {
          "name": "stdout",
          "output_type": "stream",
          "text": [
            "(61200, 1024)\n"
          ]
        }
      ],
      "source": [
        "a=np.array(imageMatrix)\n",
        "a\n",
        "print(a.shape)"
      ]
    },
    {
      "cell_type": "markdown",
      "metadata": {
        "id": "OFE_NmvQ8LD-"
      },
      "source": [
        "Separate the features and labels of the images"
      ]
    },
    {
      "cell_type": "code",
      "execution_count": 61,
      "metadata": {
        "colab": {
          "base_uri": "https://localhost:8080/"
        },
        "id": "wAF8nkKbTMqp",
        "outputId": "58982a40-caa6-4ad5-86cd-eb13a3b053de"
      },
      "outputs": [
        {
          "name": "stdout",
          "output_type": "stream",
          "text": [
            "Features size=  (61200, 1024)\n",
            "Labels size=  (61200,)\n",
            "['yna' 'yna' 'yna' ... 'jha' 'jha' 'jha']\n"
          ]
        }
      ],
      "source": [
        "n_samples = len(a)\n",
        "X= a.reshape((n_samples,-1))\n",
        "T= np.array(labels)\n",
        "print('Features size= ',X.shape)\n",
        "print('Labels size= ',T.shape)\n",
        "print(T)\n"
      ]
    },
    {
      "cell_type": "markdown",
      "metadata": {
        "id": "VoHAxkhN6XIx"
      },
      "source": [
        "Onehot encoding"
      ]
    },
    {
      "cell_type": "code",
      "execution_count": 62,
      "metadata": {
        "id": "OIsBcfY_5mWb"
      },
      "outputs": [],
      "source": [
        "le=preprocessing.LabelEncoder()\n",
        "le.fit(T)\n",
        "T=le.transform(T)\n",
        "T=keras.utils.np_utils.to_categorical(T)"
      ]
    },
    {
      "cell_type": "code",
      "execution_count": 63,
      "metadata": {
        "colab": {
          "base_uri": "https://localhost:8080/"
        },
        "id": "VLNsqkaj7VYg",
        "outputId": "21146fed-e128-4362-870d-c07b67661033"
      },
      "outputs": [
        {
          "name": "stdout",
          "output_type": "stream",
          "text": [
            "{'adna': 0, 'ba': 1, 'bha': 2, 'cha': 3, 'chha': 4, 'chhya': 5, 'da': 6, 'daa': 7, 'dha': 8, 'dhaa': 9, 'ga': 10, 'gha': 11, 'gya': 12, 'ha': 13, 'ja': 14, 'jha': 15, 'ka': 16, 'kha': 17, 'kna': 18, 'la': 19, 'ma': 20, 'motosaw': 21, 'na': 22, 'pa': 23, 'patalosaw': 24, 'petchiryakha': 25, 'pha': 26, 'ra': 27, 'ta(tabala)': 28, 'ta(tomato)': 29, 'tha': 30, 'thaa': 31, 'tra': 32, 'waw': 33, 'yaw': 34, 'yna': 35}\n"
          ]
        }
      ],
      "source": [
        "le_name_mapping = dict(zip(le.classes_,le.transform(le.classes_)))\n",
        "print(le_name_mapping)"
      ]
    },
    {
      "cell_type": "markdown",
      "metadata": {},
      "source": [
        "Split the data into train and test tests (80% train and 20% test)"
      ]
    },
    {
      "cell_type": "code",
      "execution_count": 64,
      "metadata": {
        "id": "rj92UPhh7tDn"
      },
      "outputs": [],
      "source": [
        "from sklearn.model_selection import train_test_split\n",
        "X_train, X_test, T_train, T_test = train_test_split(X, T, test_size=0.2, random_state=34)"
      ]
    },
    {
      "cell_type": "code",
      "execution_count": 65,
      "metadata": {
        "colab": {
          "base_uri": "https://localhost:8080/"
        },
        "id": "9IwqWGclABZ2",
        "outputId": "8e31f0c0-c62c-4254-85e9-8b5ed6379a36"
      },
      "outputs": [
        {
          "name": "stdout",
          "output_type": "stream",
          "text": [
            "Train size =  (48960, 1024)  (48960, 36)\n"
          ]
        }
      ],
      "source": [
        "print('Train size = ',X_train.shape,\"\",T_train.shape)"
      ]
    },
    {
      "cell_type": "code",
      "execution_count": 86,
      "metadata": {
        "id": "ZZl413qmA0wb"
      },
      "outputs": [],
      "source": [
        "import numpy as np\n",
        "import keras\n",
        "from keras import models, layers, losses, optimizers, metrics\n",
        "from keras.utils import to_categorical\n",
        "from sklearn.preprocessing import StandardScaler, LabelEncoder, OneHotEncoder\n",
        "import pandas as pd\n",
        "from sklearn.model_selection import train_test_split\n",
        "import matplotlib.pyplot as plt\n",
        "%matplotlib inline\n",
        "from keras.layers import Dense, Conv2D, MaxPool2D, Flatten, Dropout\n",
        "from keras.models import Sequential\n",
        "from tensorflow.keras.preprocessing import image\n"
      ]
    },
    {
      "cell_type": "code",
      "execution_count": 67,
      "metadata": {
        "id": "_k4jI-VCImxF"
      },
      "outputs": [],
      "source": [
        "img_height_rows = 32\n",
        "img_width_cols = 32"
      ]
    },
    {
      "cell_type": "code",
      "execution_count": 68,
      "metadata": {
        "colab": {
          "base_uri": "https://localhost:8080/"
        },
        "id": "tBejga6RIj0d",
        "outputId": "021dab2a-843b-4a30-efd2-d66516031594"
      },
      "outputs": [
        {
          "name": "stdout",
          "output_type": "stream",
          "text": [
            "(32, 32, 1)\n"
          ]
        }
      ],
      "source": [
        "im_shape = (img_height_rows, img_width_cols, 1)\n",
        "print(im_shape)\n",
        "x_train= X_train.reshape(X_train.shape[0], *im_shape)\n",
        "x_test = X_test.reshape(X_test.shape[0], *im_shape)\n",
        "x_train = x_train.astype('float32')\n",
        "x_test = x_test.astype('float32')"
      ]
    },
    {
      "cell_type": "code",
      "execution_count": 69,
      "metadata": {
        "colab": {
          "base_uri": "https://localhost:8080/"
        },
        "id": "XI92_zooIgNu",
        "outputId": "388b88f6-2194-446b-cae5-e88efd09926d"
      },
      "outputs": [
        {
          "name": "stdout",
          "output_type": "stream",
          "text": [
            "(32, 32, 1)\n"
          ]
        }
      ],
      "source": [
        "im_shape = (img_height_rows, img_width_cols, 1)\n",
        "print(im_shape)\n",
        "x_train = X_train.reshape(X_train.shape[0], *im_shape) # Python TIP :the * operator unpacks the tuple\n",
        "x_test = X_test.reshape(X_test.shape[0], *im_shape)"
      ]
    },
    {
      "cell_type": "markdown",
      "metadata": {},
      "source": [
        "Train a classification model using Convolutional Neural Networks "
      ]
    },
    {
      "cell_type": "code",
      "execution_count": 70,
      "metadata": {
        "id": "mT0cLtVVHJ63"
      },
      "outputs": [],
      "source": [
        "cnn= Sequential()\n",
        "#1st layer\n",
        "cnn.add(Conv2D(filters=8, kernel_size = (5,5), activation = 'relu', \n",
        "                 input_shape = (32,32,1)))\n",
        "cnn.add(MaxPool2D(pool_size=(2,2)))\n",
        "cnn.add(Dropout(0.25))"
      ]
    },
    {
      "cell_type": "code",
      "execution_count": 71,
      "metadata": {
        "id": "exIP2QpPHlAg"
      },
      "outputs": [],
      "source": [
        "#2nd layer\n",
        "cnn.add(Conv2D(filters = 8, kernel_size= (3,3),\n",
        "                 activation='relu'))\n",
        "cnn.add(MaxPool2D(pool_size=(2,2)))\n",
        "cnn.add(Dropout(0.25))"
      ]
    },
    {
      "cell_type": "code",
      "execution_count": 72,
      "metadata": {
        "id": "y17gDpi7HogG"
      },
      "outputs": [],
      "source": [
        "cnn.add(Flatten(input_shape=(32,32,1)))\n",
        "cnn.add(Dense(20, activation = 'relu'))\n",
        "cnn.add(Dense(1024, activation = 'relu'))\n",
        "# as we have 384 categories we have 384 output nodes\n",
        "cnn.add(Dense(36, activation = 'softmax'))\n"
      ]
    },
    {
      "cell_type": "code",
      "execution_count": 73,
      "metadata": {
        "colab": {
          "base_uri": "https://localhost:8080/"
        },
        "id": "ZqY4k67MHq_m",
        "outputId": "e3a802df-d6d9-4114-c42f-aa02d6b99122"
      },
      "outputs": [
        {
          "name": "stdout",
          "output_type": "stream",
          "text": [
            "Model: \"sequential_1\"\n",
            "____________________________________________________________________________\n",
            " Layer (type)                Output Shape              Param #   Trainable  \n",
            "============================================================================\n",
            " conv2d_2 (Conv2D)           (None, 28, 28, 8)         208       Y          \n",
            "                                                                            \n",
            " max_pooling2d_2 (MaxPooling  (None, 14, 14, 8)        0         Y          \n",
            " 2D)                                                                        \n",
            "                                                                            \n",
            " dropout_2 (Dropout)         (None, 14, 14, 8)         0         Y          \n",
            "                                                                            \n",
            " conv2d_3 (Conv2D)           (None, 12, 12, 8)         584       Y          \n",
            "                                                                            \n",
            " max_pooling2d_3 (MaxPooling  (None, 6, 6, 8)          0         Y          \n",
            " 2D)                                                                        \n",
            "                                                                            \n",
            " dropout_3 (Dropout)         (None, 6, 6, 8)           0         Y          \n",
            "                                                                            \n",
            " flatten_1 (Flatten)         (None, 288)               0         Y          \n",
            "                                                                            \n",
            " dense_3 (Dense)             (None, 20)                5780      Y          \n",
            "                                                                            \n",
            " dense_4 (Dense)             (None, 1024)              21504     Y          \n",
            "                                                                            \n",
            " dense_5 (Dense)             (None, 36)                36900     Y          \n",
            "                                                                            \n",
            "============================================================================\n",
            "Total params: 64,976\n",
            "Trainable params: 64,976\n",
            "Non-trainable params: 0\n",
            "____________________________________________________________________________\n"
          ]
        }
      ],
      "source": [
        "cnn.summary(show_trainable=True)\n",
        "cnn.compile(optimizer = \"Adam\", loss = 'categorical_crossentropy', \n",
        "              metrics=['accuracy'])\n"
      ]
    },
    {
      "cell_type": "code",
      "execution_count": 74,
      "metadata": {
        "colab": {
          "base_uri": "https://localhost:8080/"
        },
        "id": "X1MqmvZ8Hwcu",
        "outputId": "a5fb64e0-01a0-4872-bb26-db50a200d93f"
      },
      "outputs": [
        {
          "name": "stdout",
          "output_type": "stream",
          "text": [
            "Epoch 1/10\n",
            "765/765 [==============================] - 13s 16ms/step - loss: 2.8684 - accuracy: 0.2303 - val_loss: 1.1553 - val_accuracy: 0.6654\n",
            "Epoch 2/10\n",
            "765/765 [==============================] - 12s 15ms/step - loss: 1.1667 - accuracy: 0.6384 - val_loss: 0.6282 - val_accuracy: 0.8040\n",
            "Epoch 3/10\n",
            "765/765 [==============================] - 12s 15ms/step - loss: 0.8032 - accuracy: 0.7495 - val_loss: 0.4702 - val_accuracy: 0.8589\n",
            "Epoch 4/10\n",
            "765/765 [==============================] - 12s 15ms/step - loss: 0.6410 - accuracy: 0.7970 - val_loss: 0.3680 - val_accuracy: 0.8888\n",
            "Epoch 5/10\n",
            "765/765 [==============================] - 12s 15ms/step - loss: 0.5496 - accuracy: 0.8267 - val_loss: 0.3037 - val_accuracy: 0.9092\n",
            "Epoch 6/10\n",
            "765/765 [==============================] - 12s 15ms/step - loss: 0.4949 - accuracy: 0.8428 - val_loss: 0.2737 - val_accuracy: 0.9136\n",
            "Epoch 7/10\n",
            "765/765 [==============================] - 12s 16ms/step - loss: 0.4633 - accuracy: 0.8518 - val_loss: 0.2768 - val_accuracy: 0.9167\n",
            "Epoch 8/10\n",
            "765/765 [==============================] - 12s 15ms/step - loss: 0.4394 - accuracy: 0.8618 - val_loss: 0.2390 - val_accuracy: 0.9288\n",
            "Epoch 9/10\n",
            "765/765 [==============================] - 12s 15ms/step - loss: 0.4131 - accuracy: 0.8676 - val_loss: 0.2695 - val_accuracy: 0.9154\n",
            "Epoch 10/10\n",
            "765/765 [==============================] - 12s 16ms/step - loss: 0.4000 - accuracy: 0.8712 - val_loss: 0.2326 - val_accuracy: 0.9268\n"
          ]
        }
      ],
      "source": [
        "history = cnn.fit(x_train, T_train, epochs = 10, batch_size=64,\n",
        "                    validation_data= (x_test,T_test))"
      ]
    },
    {
      "cell_type": "code",
      "execution_count": 75,
      "metadata": {
        "colab": {
          "base_uri": "https://localhost:8080/"
        },
        "id": "BLZW3wOceACf",
        "outputId": "7dc14014-6ea7-44dc-aa25-8449599d5a71"
      },
      "outputs": [
        {
          "name": "stdout",
          "output_type": "stream",
          "text": [
            "Accuracy: 92.68%\n"
          ]
        }
      ],
      "source": [
        "scores = cnn.evaluate(x_test, T_test, verbose=0)\n",
        "print(\"Accuracy: %.2f%%\" % (scores[1]*100))\n"
      ]
    },
    {
      "cell_type": "code",
      "execution_count": 76,
      "metadata": {
        "colab": {
          "base_uri": "https://localhost:8080/"
        },
        "id": "eazZSYyaeuVQ",
        "outputId": "5ce6cc5b-da75-426e-b262-5910dc3431ff"
      },
      "outputs": [
        {
          "name": "stdout",
          "output_type": "stream",
          "text": [
            "1530/1530 [==============================] - 6s 4ms/step - loss: 0.1861 - accuracy: 0.9425\n",
            "383/383 [==============================] - 1s 4ms/step - loss: 0.2326 - accuracy: 0.9268\n"
          ]
        }
      ],
      "source": [
        "train_mse = cnn.evaluate(x_train, T_train, verbose=\"auto\",use_multiprocessing=True)\n",
        "test_mse =cnn.evaluate(x_test, T_test, verbose=\"auto\",use_multiprocessing=True)"
      ]
    },
    {
      "cell_type": "markdown",
      "metadata": {},
      "source": [
        "Validate the model"
      ]
    },
    {
      "cell_type": "code",
      "execution_count": 77,
      "metadata": {
        "colab": {
          "base_uri": "https://localhost:8080/",
          "height": 405
        },
        "id": "oSVwgaAWfRwG",
        "outputId": "16939315-ce2e-4d24-b4f7-eda678b3720c"
      },
      "outputs": [
        {
          "name": "stdout",
          "output_type": "stream",
          "text": [
            "(32, 32)\n",
            "[[ 0  0  0 ...  0  0  0]\n",
            " [ 0  0  0 ...  0  0  0]\n",
            " [ 0  0  0 ... 94  0  0]\n",
            " ...\n",
            " [ 0  0  0 ...  0  0  0]\n",
            " [ 0  0  0 ...  0  0  0]\n",
            " [ 0  0  0 ...  0  0  0]]\n"
          ]
        },
        {
          "data": {
            "image/png": "[encoded data removed]",
            "text/plain": [
              "<Figure size 640x480 with 1 Axes>"
            ]
          },
          "metadata": {},
          "output_type": "display_data"
        }
      ],
      "source": [
        "X_images = X_train.reshape((-1,32,32))\n",
        "plt.imshow(X_images[7],cmap='gray')\n",
        "print(X_images[7].shape)\n",
        "print(X_images[7])\n",
        "plt.show()\n"
      ]
    },
    {
      "cell_type": "code",
      "execution_count": 78,
      "metadata": {
        "colab": {
          "base_uri": "https://localhost:8080/"
        },
        "id": "w0vgZw_xfeKG",
        "outputId": "779184e3-1caf-4ea6-f71c-0475bebe11f8"
      },
      "outputs": [
        {
          "name": "stdout",
          "output_type": "stream",
          "text": [
            "1/1 [==============================] - 0s 75ms/step\n",
            "CNN Predicted: gya\n"
          ]
        }
      ],
      "source": [
        "imgTrans =X_train[7].reshape(1,32,32,1)\n",
        "predictions = cnn.predict([imgTrans])\n",
        "classes=[np.argmax(predictions)]\n",
        "classes\n",
        "le.classes_[classes]\n",
        "print(\"CNN Predicted:\",*le.classes_[classes])"
      ]
    },
    {
      "cell_type": "code",
      "execution_count": 79,
      "metadata": {
        "colab": {
          "base_uri": "https://localhost:8080/"
        },
        "id": "ZmvoAUvPDLwW",
        "outputId": "9fff895a-ed6b-4c1c-f5b4-1caecf1b0003"
      },
      "outputs": [
        {
          "name": "stdout",
          "output_type": "stream",
          "text": [
            "Keras weights file (<HDF5 file \"variables.h5\" (mode r+)>) saving:\n",
            "...layers\\conv2d\n",
            "......vars\n",
            ".........0\n",
            ".........1\n",
            "...layers\\conv2d_1\n",
            "......vars\n",
            ".........0\n",
            ".........1\n",
            "...layers\\dense\n",
            "......vars\n",
            ".........0\n",
            ".........1\n",
            "...layers\\dense_1\n",
            "......vars\n",
            ".........0\n",
            ".........1\n",
            "...layers\\dense_2\n",
            "......vars\n",
            ".........0\n",
            ".........1\n",
            "...layers\\dropout\n",
            "......vars\n",
            "...layers\\dropout_1\n",
            "......vars\n",
            "...layers\\flatten\n",
            "......vars\n",
            "...layers\\max_pooling2d\n",
            "......vars\n",
            "...layers\\max_pooling2d_1\n",
            "......vars\n",
            "...metrics\\mean\n",
            "......vars\n",
            ".........0\n",
            ".........1\n",
            "...metrics\\mean_metric_wrapper\n",
            "......vars\n",
            ".........0\n",
            ".........1\n",
            "...optimizer\n",
            "......vars\n",
            ".........0\n",
            ".........1\n",
            ".........10\n",
            ".........11\n",
            ".........12\n",
            ".........13\n",
            ".........14\n",
            ".........15\n",
            ".........16\n",
            ".........17\n",
            ".........18\n",
            ".........19\n",
            ".........2\n",
            ".........20\n",
            ".........3\n",
            ".........4\n",
            ".........5\n",
            ".........6\n",
            ".........7\n",
            ".........8\n",
            ".........9\n",
            "...vars\n",
            "Keras model archive saving:\n",
            "File Name                                             Modified             Size\n",
            "config.json                                    2022-12-01 16:45:59         3849\n",
            "metadata.json                                  2022-12-01 16:45:59           64\n",
            "variables.h5                                   2022-12-01 16:45:59       819248\n",
            "Keras model archive loading:\n",
            "File Name                                             Modified             Size\n",
            "config.json                                    2022-12-01 16:45:58         3849\n",
            "metadata.json                                  2022-12-01 16:45:58           64\n",
            "variables.h5                                   2022-12-01 16:45:58       819248\n",
            "Keras weights file (<HDF5 file \"variables.h5\" (mode r)>) loading:\n",
            "...layers\\conv2d\n",
            "......vars\n",
            ".........0\n",
            ".........1\n",
            "...layers\\conv2d_1\n",
            "......vars\n",
            ".........0\n",
            ".........1\n",
            "...layers\\dense\n",
            "......vars\n",
            ".........0\n",
            ".........1\n",
            "...layers\\dense_1\n",
            "......vars\n",
            ".........0\n",
            ".........1\n",
            "...layers\\dense_2\n",
            "......vars\n",
            ".........0\n",
            ".........1\n",
            "...layers\\dropout\n",
            "......vars\n",
            "...layers\\dropout_1\n",
            "......vars\n",
            "...layers\\flatten\n",
            "......vars\n",
            "...layers\\max_pooling2d\n",
            "......vars\n",
            "...layers\\max_pooling2d_1\n",
            "......vars\n",
            "...metrics\\mean\n",
            "......vars\n",
            ".........0\n",
            ".........1\n",
            "...metrics\\mean_metric_wrapper\n",
            "......vars\n",
            ".........0\n",
            ".........1\n",
            "...optimizer\n",
            "......vars\n",
            ".........0\n",
            ".........1\n",
            ".........10\n",
            ".........11\n",
            ".........12\n",
            ".........13\n",
            ".........14\n",
            ".........15\n",
            ".........16\n",
            ".........17\n",
            ".........18\n",
            ".........19\n",
            ".........2\n",
            ".........20\n",
            ".........3\n",
            ".........4\n",
            ".........5\n",
            ".........6\n",
            ".........7\n",
            ".........8\n",
            ".........9\n",
            "...vars\n"
          ]
        }
      ],
      "source": [
        "import joblib\n",
        "\n",
        "joblib.dump(cnn, \"Handwritten_letter_classification_model.h5\")\n",
        "loaded_model = joblib.load('Handwritten_letter_classification_model.h5')"
      ]
    },
    {
      "cell_type": "markdown",
      "metadata": {},
      "source": [
        "Prediction using random handwritten image"
      ]
    },
    {
      "cell_type": "code",
      "execution_count": 95,
      "metadata": {
        "colab": {
          "base_uri": "https://localhost:8080/",
          "height": 318
        },
        "id": "LeTJhZZQEA8K",
        "outputId": "3600fbf7-fa52-4032-a6f2-04fec322ab81"
      },
      "outputs": [
        {
          "name": "stdout",
          "output_type": "stream",
          "text": [
            "(1, 32, 32, 1)\n",
            "1/1 [==============================] - 0s 23ms/step\n",
            "CNN Predicted: ka\n"
          ]
        },
        {
          "data": {
            "image/png": "[encoded data removed]",
            "text/plain": [
              "<Figure size 640x480 with 1 Axes>"
            ]
          },
          "metadata": {},
          "output_type": "display_data"
        }
      ],
      "source": [
        "input_image = image.load_img(r\"C:\\Users\\Administrator\\Desktop\\HLD\\ka.png\", color_mode = 'grayscale', target_size = (32, 32))\n",
        "numerical_values_of_image = image.img_to_array(input_image)\n",
        "expand_dimension = numerical_values_of_image\n",
        "expand_dimension = np.expand_dims(numerical_values_of_image, axis = 0)\n",
        "print(expand_dimension.shape)\n",
        "plt.imshow(input_image)\n",
        "predictions = cnn.predict([expand_dimension])\n",
        "classes=[np.argmax(predictions)]               \n",
        "print(\"CNN Predicted:\",*le.classes_[classes])"
      ]
    },
    {
      "cell_type": "code",
      "execution_count": null,
      "metadata": {
        "id": "FM03ADLuEQ-D"
      },
      "outputs": [],
      "source": []
    }
  ],
  "metadata": {
    "colab": {
      "provenance": []
    },
    "kernelspec": {
      "display_name": "Python 3.8.9 64-bit",
      "language": "python",
      "name": "python3"
    },
    "language_info": {
      "codemirror_mode": {
        "name": "ipython",
        "version": 3
      },
      "file_extension": ".py",
      "mimetype": "text/x-python",
      "name": "python",
      "nbconvert_exporter": "python",
      "pygments_lexer": "ipython3",
      "version": "3.8.9"
    },
    "vscode": {
      "interpreter": {
        "hash": "e0144baad0ecee903f108a3e46e51ceadd7da3fc904cfa79747d813b61464b4e"
      }
    }
  },
  "nbformat": 4,
  "nbformat_minor": 0
}
